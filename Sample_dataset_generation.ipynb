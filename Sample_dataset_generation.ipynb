{
 "cells": [
  {
   "cell_type": "code",
   "execution_count": 1,
   "id": "576b2138-4efe-4cbb-9832-97e58f6bbbfe",
   "metadata": {},
   "outputs": [
    {
     "name": "stdout",
     "output_type": "stream",
     "text": [
      "Random sampling complete. Sampled files saved.\n"
     ]
    }
   ],
   "source": [
    "import pandas as pd\n",
    "\n",
    "# List of input and output file paths\n",
    "input_files = ['policecalls2022.csv', 'policecalls2023.csv', 'policecalls2024.csv']  # Replace with your actual file names\n",
    "output_files = ['sampled_file2022.csv', 'sampled_file2023.csv', 'sampled_file2024.csv']\n",
    "\n",
    "# Number of rows to sample\n",
    "sample_size = 5000\n",
    "\n",
    "for input_file, output_file in zip(input_files, output_files):\n",
    "    # Read the CSV file\n",
    "    data = pd.read_csv(input_file)\n",
    "    \n",
    "    # Randomly sample 5000 rows\n",
    "    sampled_data = data.sample(n=sample_size, random_state=42)  # Use random_state for reproducibility\n",
    "    \n",
    "    # Save the sampled data to a new CSV file\n",
    "    sampled_data.to_csv(output_file, index=False)\n",
    "\n",
    "print(\"Random sampling complete. Sampled files saved.\")\n"
   ]
  },
  {
   "cell_type": "code",
   "execution_count": null,
   "id": "4885964a-2e00-41f5-884d-f7fe8847d26c",
   "metadata": {},
   "outputs": [],
   "source": []
  }
 ],
 "metadata": {
  "kernelspec": {
   "display_name": "Python 3 (ipykernel)",
   "language": "python",
   "name": "python3"
  },
  "language_info": {
   "codemirror_mode": {
    "name": "ipython",
    "version": 3
   },
   "file_extension": ".py",
   "mimetype": "text/x-python",
   "name": "python",
   "nbconvert_exporter": "python",
   "pygments_lexer": "ipython3",
   "version": "3.12.4"
  }
 },
 "nbformat": 4,
 "nbformat_minor": 5
}
